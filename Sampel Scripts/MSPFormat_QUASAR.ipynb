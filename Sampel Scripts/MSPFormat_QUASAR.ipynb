# Import necessary packages
from quasar import *

#Set `model` and `lattice` with QUASAR's built-in MSPFormat reader
model = DecisionProblem.load('(01_0)_3.problem.json')
lattice = Lattice.from_json('(01_0)_3.lattice.json', model.num_stages)

#Solve using QUASAR's appropriate methods
opt = DynamicOptimizer(model, lattice)
opt.solve()
