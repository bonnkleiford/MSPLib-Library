# Import necessary packages
import SDDP, GLPK, Gurobi

#Set `model` with SDDPjl's built-in MSPFormat reader
model = SDDP.MSPFormat.read_from_file("(01_0)_3")

#Solve using SDDPjl's appropriate methods
SDDP.set_optimizer(model, Gurobi.Optimizer)
SDDP.train(model; iteration_limit = 100)
